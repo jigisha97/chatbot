{
 "cells": [
  {
   "cell_type": "code",
   "execution_count": 15,
   "metadata": {},
   "outputs": [],
   "source": [
    "import nltk\n",
    "import numpy as np\n",
    "import random\n",
    "import string "
   ]
  },
  {
   "cell_type": "code",
   "execution_count": 16,
   "metadata": {},
   "outputs": [],
   "source": [
    "try: \n",
    "    from googlesearch import search \n",
    "except ImportError:  \n",
    "    print(\"not found\") \n",
    "\n",
    "def search_fun(cat):\n",
    "    str=\"\"\n",
    "    query = cat\n",
    "    for j in search(query, num=10, stop=1, pause=2): \n",
    "        return(j)\n",
    "        "
   ]
  },
  {
   "cell_type": "code",
   "execution_count": 17,
   "metadata": {},
   "outputs": [],
   "source": [
    "from nltk.chat.util import Chat, reflections\n",
    "pairs = [\n",
    "    [\n",
    "        r\"my name is (.*)\",\n",
    "        [\"Hello %1, How are you today?\",]\n",
    "    ],\n",
    "     [\n",
    "        r\"what is your name\",\n",
    "        [\"My name is Chatty and I'm a chatbot\",]\n",
    "    ],\n",
    "    [\n",
    "        r\"how are you (.*)\",\n",
    "        [\"I'm doing good\\nHow about You\",]\n",
    "    ],\n",
    "    [\n",
    "        r\"sorry (.*)\",\n",
    "        [\"Its alright\",\"Its OK, never mind\",]\n",
    "    ],\n",
    "    [\n",
    "        r\"i'm (.*) doing good\",\n",
    "        [\"Nice to hear that\",\"Alright :)\",]\n",
    "    ],\n",
    "    [\n",
    "        r\"hi|hey|hello\",\n",
    "        [\"Hello\", \"Hey there\"]\n",
    "    ],\n",
    "    [\n",
    "        r\"(.*)return | refund  | complain (.*)\",\n",
    "        [\"IF you want to return product you can easily return it contact on this number 12345\",]\n",
    "        \n",
    "    ],\n",
    "    [\n",
    "        r\"search (.*)\",\n",
    "        [ search_fun('%1jewellery'),]\n",
    "        \n",
    "    ],\n",
    "    \n",
    "    [\n",
    "        r\"(.*)current gold price (.*)\",\n",
    "        [search_fun(\"current gold price\"),]\n",
    "    ],\n",
    "    [\n",
    "        r\"how is weather in (.*)?\",\n",
    "        [\"Weather in %1 is awesome like always\",\"Too hot man here in %1\",\"Too cold man here in %1\",\"Never even heard about %1\"]\n",
    "    ],\n",
    "    [\n",
    "        r\"i work in (.*)?\",\n",
    "        [\"%1 is an Amazing company, I have heard about it. But they are in huge loss these days.\",]\n",
    "    ],\n",
    "[\n",
    "        r\"(.*)raining in (.*)\",\n",
    "        [\"No rain since last week here in %2\",\"Damn its raining too much here in %2\"]\n",
    "    ],\n",
    "    \n",
    "    [\n",
    "        r\"quit\",\n",
    "        [\"BBye take care. See you soon :) \",\"It was nice talking to you. See you soon :)\"]\n",
    "],\n",
    "]\n"
   ]
  },
  {
   "cell_type": "code",
   "execution_count": null,
   "metadata": {},
   "outputs": [
    {
     "name": "stdout",
     "output_type": "stream",
     "text": [
      "Hi, I'm your helper Yo can talk with me if you need any help. Otherwise Type quit to leave \n",
      ">hello\n",
      "Hello\n",
      ">what is current gold price is\n",
      "https://www.goodreturns.in/gold-rates/pune.html\n",
      ">search ring\n",
      "https://www.amazon.in/Jewellery/b?ie=UTF8&node=1951048031\n"
     ]
    }
   ],
   "source": [
    "def chatty():\n",
    "    print(\"Hi, I'm your helper Yo can talk with me if you need any help. Otherwise Type quit to leave \")\n",
    "    chat = Chat(pairs, reflections)\n",
    "    chat.converse()\n",
    "if __name__ == \"__main__\":\n",
    "    chatty()\n"
   ]
  },
  {
   "cell_type": "code",
   "execution_count": 12,
   "metadata": {},
   "outputs": [],
   "source": []
  },
  {
   "cell_type": "code",
   "execution_count": null,
   "metadata": {},
   "outputs": [],
   "source": []
  }
 ],
 "metadata": {
  "kernelspec": {
   "display_name": "Python 3",
   "language": "python",
   "name": "python3"
  },
  "language_info": {
   "codemirror_mode": {
    "name": "ipython",
    "version": 3
   },
   "file_extension": ".py",
   "mimetype": "text/x-python",
   "name": "python",
   "nbconvert_exporter": "python",
   "pygments_lexer": "ipython3",
   "version": "3.6.8"
  }
 },
 "nbformat": 4,
 "nbformat_minor": 2
}
